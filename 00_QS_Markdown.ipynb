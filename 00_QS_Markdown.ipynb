{
 "cells": [
  {
   "cell_type": "markdown",
   "metadata": {},
   "source": [
    "# H1\n",
    "## H2\n",
    "### H3\n",
    "#### H4\n",
    "##### H5\n",
    "###### H6\n",
    "\n",
    "\n",
    "***\n",
    "\n",
    "Alternatively, for H1 and H2, an underline-ish style:\n",
    "\n",
    "Alt-H1\n",
    "======\n",
    "\n",
    "Alt-H2\n",
    "------"
   ]
  },
  {
   "cell_type": "markdown",
   "metadata": {},
   "source": [
    "Emphasis:  \n",
    "__Bold__ and **also Bold** _Italic_ and *also Italic*. Also, ~~Scratch this.~~\n",
    "\n",
    "Mathematical symbols:  \n",
    "Use this code: $ \\alpha $\n",
    "\n",
    "$-b \\pm \\sqrt{b^2 - 4ac} \\over 2a$\n",
    "$x = a_0 + \\frac{1}{a_1 + \\frac{1}{a_2 + \\frac{1}{a_3 + a_4}}}$\n",
    "$\\forall x \\in X, \\quad \\exists y \\leq \\epsilon$\n",
    "\n",
    "Monospace font:  \n",
    "`back single quotation mark`\n",
    "\n",
    "Line breaks:  \n",
    "double space at the end of a line  \n",
    "or using: <br>(newline).\n",
    "\n",
    "Colors:\n",
    "<font color='blue'>Blue</font>, doesnt work.\n",
    "\n",
    "Indenting:\n",
    "> indent this.\n",
    "\n",
    "Bullets: \n",
    "- this\n",
    "- that\n",
    "    - one tab sub\n",
    "        - two tab sub\n",
    "\n",
    "Numbered:\n",
    "1. one\n",
    "2. two\n",
    "    1. one tab sub\n",
    "    3. jump to 3\n",
    "            1.two tab sub\n",
    "\n",
    "Code:\n",
    "```python\n",
    "#some python code\n",
    "def antani():\n",
    "    pass\n",
    "```"
   ]
  },
  {
   "cell_type": "markdown",
   "metadata": {},
   "source": [
    "## Links\n",
    "\n",
    "[I'm an inline-style link](https://www.google.com)\n",
    "\n",
    "[I'm a reference-style link][Arbitrary case-insensitive reference text]\n",
    "\n",
    "[You can use numbers for reference-style link definitions][1]\n",
    "\n",
    "Or leave it empty and use the [link text itself]\n",
    "\n",
    "URLs and URLs in angle brackets will automatically get turned into links. \n",
    "http://www.example.com or <http://www.example.com> and sometimes \n",
    "example.com (but not on Github, for example).\n",
    "\n",
    "Some text to show that the reference links can follow later.\n",
    "\n",
    "[arbitrary case-insensitive reference text]: https://www.mozilla.org\n",
    "[1]: http://slashdot.org\n",
    "[link text itself]: http://www.reddit.com"
   ]
  },
  {
   "cell_type": "markdown",
   "metadata": {},
   "source": [
    "Links:\n",
    "[link text](http://google.com)\n",
    "\n",
    "ImageLink:\n",
    "\n",
    "![imageLink](https://upload.wikimedia.org/wikipedia/en/5/53/The_first_Google_Doodle.png)"
   ]
  },
  {
   "cell_type": "markdown",
   "metadata": {},
   "source": []
  },
  {
   "cell_type": "markdown",
   "metadata": {},
   "source": [
    "## Tables\n",
    "Colons can be used to align columns.\n",
    "\n",
    "| Tables        | Are           | Cool  |\n",
    "| ------------- |:-------------:| -----:|\n",
    "| col 3 is      | right-aligned | 1600 |\n",
    "| col 2 is      | centered      |   12 |\n",
    "| zebra stripes | are neat      |    1 |\n",
    "\n",
    "The outer pipes (|) are optional, and you don't need to make the raw Markdown line up prettily. You can also use inline Markdown.\n",
    "\n",
    "Markdown | Less | Pretty\n",
    "--- | --- | ---\n",
    "*Still* | `renders` | **nicely**\n",
    "1 | 2 | 3"
   ]
  }
 ],
 "metadata": {
  "kernelspec": {
   "display_name": "Python 3",
   "language": "python",
   "name": "python3"
  },
  "language_info": {
   "codemirror_mode": {
    "name": "ipython",
    "version": 3
   },
   "file_extension": ".py",
   "mimetype": "text/x-python",
   "name": "python",
   "nbconvert_exporter": "python",
   "pygments_lexer": "ipython3",
   "version": "3.6.6"
  }
 },
 "nbformat": 4,
 "nbformat_minor": 2
}
