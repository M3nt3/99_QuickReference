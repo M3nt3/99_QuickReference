{
 "cells": [
  {
   "cell_type": "code",
   "execution_count": 4,
   "metadata": {},
   "outputs": [
    {
     "name": "stdout",
     "output_type": "stream",
     "text": [
      "On branch nicola\n",
      "Your branch is ahead of 'origin/nicola' by 1 commit.\n",
      "  (use \"git push\" to publish your local commits)\n",
      "Changes not staged for commit:\n",
      "  (use \"git add <file>...\" to update what will be committed)\n",
      "  (use \"git checkout -- <file>...\" to discard changes in working directory)\n",
      "\n",
      "\t\u001b[31mmodified:   00_repoupdate.ipynb\u001b[m\n",
      "\t\u001b[31mmodified:   01_EVOLVE_DA.ipynb\u001b[m\n",
      "\n",
      "no changes added to commit (use \"git add\" and/or \"git commit -a\")\n"
     ]
    }
   ],
   "source": [
    "!git status"
   ]
  },
  {
   "cell_type": "code",
   "execution_count": 5,
   "metadata": {},
   "outputs": [
    {
     "name": "stdout",
     "output_type": "stream",
     "text": [
      "On branch nicola\n",
      "Your branch is ahead of 'origin/nicola' by 1 commit.\n",
      "  (use \"git push\" to publish your local commits)\n",
      "Changes to be committed:\n",
      "  (use \"git reset HEAD <file>...\" to unstage)\n",
      "\n",
      "\t\u001b[32mmodified:   00_repoupdate.ipynb\u001b[m\n",
      "\t\u001b[32mmodified:   01_EVOLVE_DA.ipynb\u001b[m\n",
      "\n"
     ]
    }
   ],
   "source": [
    "!git add -A\n",
    "!git status"
   ]
  },
  {
   "cell_type": "code",
   "execution_count": 6,
   "metadata": {},
   "outputs": [
    {
     "name": "stdout",
     "output_type": "stream",
     "text": [
      "[nicola be098e6] Daily Sync\n",
      " 2 files changed, 42 insertions(+), 20 deletions(-)\n",
      "fatal: The permissions on your socket directory are too loose; other\n",
      "users may be able to read your cached credentials. Consider running:\n",
      "\n",
      "\tchmod 0700 /home/jovyan/.git-credential-cache\n",
      "fatal: cache daemon did not start: \n",
      "Counting objects: 19, done.\n",
      "Delta compression using up to 4 threads.\n",
      "Compressing objects: 100% (19/19), done.\n",
      "Writing objects: 100% (19/19), 197.64 MiB | 21.22 MiB/s, done.\n",
      "Total 19 (delta 12), reused 0 (delta 0)\n",
      "remote: Resolving deltas: 100% (12/12), completed with 9 local objects.\u001b[K\n",
      "remote: error: GH001: Large files detected. You may want to try Git Large File Storage - https://git-lfs.github.com.\u001b[K\n",
      "remote: error: Trace: 8940ace0fb31fe87acef3c4f7c1f1054\u001b[K\n",
      "remote: error: See http://git.io/iEPt8g for more information.\u001b[K\n",
      "remote: error: File 00_Tools_Tutorials/DATA handling/FRED.zip is 207.29 MB; this exceeds GitHub's file size limit of 100.00 MB\u001b[K\n",
      "To https://github.com/Glia-Ecosystems/EvolveJupyterNB\n",
      " ! [remote rejected] nicola -> nicola (pre-receive hook declined)\n",
      "error: failed to push some refs to 'https://github.com/Glia-Ecosystems/EvolveJupyterNB'\n"
     ]
    }
   ],
   "source": [
    "!git commit -m 'Daily Sync'\n",
    "!git push"
   ]
  },
  {
   "cell_type": "code",
   "execution_count": 5,
   "metadata": {},
   "outputs": [],
   "source": [
    "# !chmod 0700 /home/jovyan/.git-credential-cache"
   ]
  },
  {
   "cell_type": "code",
   "execution_count": null,
   "metadata": {},
   "outputs": [],
   "source": [
    "# To reset last commit\n",
    "!git reset HEAD~ "
   ]
  },
  {
   "cell_type": "code",
   "execution_count": 4,
   "metadata": {},
   "outputs": [],
   "source": [
    "# To store credential\n",
    "!git config --global credential.helper cache\n",
    "!git config credential.helper 'store'"
   ]
  }
 ],
 "metadata": {
  "kernelspec": {
   "display_name": "Python 3",
   "language": "python",
   "name": "python3"
  },
  "language_info": {
   "codemirror_mode": {
    "name": "ipython",
    "version": 3
   },
   "file_extension": ".py",
   "mimetype": "text/x-python",
   "name": "python",
   "nbconvert_exporter": "python",
   "pygments_lexer": "ipython3",
   "version": "3.6.7"
  }
 },
 "nbformat": 4,
 "nbformat_minor": 2
}
